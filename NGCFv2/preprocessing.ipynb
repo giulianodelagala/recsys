{
 "cells": [
  {
   "cell_type": "code",
   "execution_count": 103,
   "metadata": {},
   "outputs": [],
   "source": [
    "import pandas as pd\n",
    "import numpy as np"
   ]
  },
  {
   "cell_type": "code",
   "execution_count": 119,
   "metadata": {},
   "outputs": [],
   "source": [
    "data = pd.read_csv('../Data/ml100/u.data', sep='\\t', header=None, names=['user_id','item_id','rating','timestamp'])\n",
    "data = data.drop(columns='timestamp')"
   ]
  },
  {
   "cell_type": "code",
   "execution_count": 120,
   "metadata": {},
   "outputs": [],
   "source": [
    "data = data[data['rating'] >= 3]"
   ]
  },
  {
   "cell_type": "code",
   "execution_count": 121,
   "metadata": {},
   "outputs": [],
   "source": [
    "data['item_id'] = data['item_id'].apply(str)\n",
    "data = data.groupby('user_id')['item_id'].apply(list).reset_index(name='item_id')"
   ]
  },
  {
   "cell_type": "code",
   "execution_count": 122,
   "metadata": {},
   "outputs": [],
   "source": [
    "file = open(\"../Data/ml100/train.txt\", 'w+')\n",
    "for index, row in data.iterrows():\n",
    "    line = str(row['user_id']), ' '.join(map(str,row['item_id'])),'\\n'\n",
    "    line = ' '.join(line)\n",
    "    file.write(line)\n",
    "file.close()"
   ]
  },
  {
   "cell_type": "code",
   "execution_count": 123,
   "metadata": {},
   "outputs": [],
   "source": [
    "data = pd.read_csv('../Data/ml100/ua.test', sep='\\t', header=None, names=['user_id','item_id','rating','timestamp'])\n",
    "data = data.drop(columns='timestamp')\n",
    "data['item_id'] = data['item_id'].apply(str)\n",
    "data = data.groupby('user_id')['item_id'].apply(list).reset_index(name='item_id')\n",
    "\n",
    "file = open(\"../Data/ml100/test.txt\", 'w+')\n",
    "for index, row in data.iterrows():\n",
    "    line = str(row['user_id']), ' '.join(map(str,row['item_id'])),'\\n'\n",
    "    line = ' '.join(line)\n",
    "    file.write(line)\n",
    "file.close()"
   ]
  }
 ],
 "metadata": {
  "kernelspec": {
   "display_name": "Python 3.10.6 64-bit",
   "language": "python",
   "name": "python3"
  },
  "language_info": {
   "codemirror_mode": {
    "name": "ipython",
    "version": 3
   },
   "file_extension": ".py",
   "mimetype": "text/x-python",
   "name": "python",
   "nbconvert_exporter": "python",
   "pygments_lexer": "ipython3",
   "version": "3.10.6"
  },
  "orig_nbformat": 4,
  "vscode": {
   "interpreter": {
    "hash": "31f2aee4e71d21fbe5cf8b01ff0e069b9275f58929596ceb00d14d90e3e16cd6"
   }
  }
 },
 "nbformat": 4,
 "nbformat_minor": 2
}
