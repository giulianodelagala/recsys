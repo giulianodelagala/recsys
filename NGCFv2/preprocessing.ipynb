{
 "cells": [
  {
   "cell_type": "code",
   "execution_count": 1,
   "metadata": {},
   "outputs": [],
   "source": [
    "import pandas as pd\n",
    "import numpy as np\n",
    "from sklearn.model_selection import train_test_split"
   ]
  },
  {
   "cell_type": "code",
   "execution_count": 2,
   "metadata": {},
   "outputs": [],
   "source": [
    "data = pd.read_csv('../Data/ml100/movieLens_ratings.csv', sep=',', header=0)\n",
    "data = data.drop(columns='timestamp')"
   ]
  },
  {
   "cell_type": "code",
   "execution_count": 3,
   "metadata": {},
   "outputs": [],
   "source": [
    "data = data[data['rating'] >= 3]"
   ]
  },
  {
   "cell_type": "code",
   "execution_count": 4,
   "metadata": {},
   "outputs": [],
   "source": [
    "data['item_id'] = data['item_id'].apply(str)\n",
    "data = data.groupby('user_id')['item_id'].apply(list).reset_index(name='item_id')"
   ]
  },
  {
   "cell_type": "code",
   "execution_count": 5,
   "metadata": {},
   "outputs": [
    {
     "data": {
      "text/html": [
       "<div>\n",
       "<style scoped>\n",
       "    .dataframe tbody tr th:only-of-type {\n",
       "        vertical-align: middle;\n",
       "    }\n",
       "\n",
       "    .dataframe tbody tr th {\n",
       "        vertical-align: top;\n",
       "    }\n",
       "\n",
       "    .dataframe thead th {\n",
       "        text-align: right;\n",
       "    }\n",
       "</style>\n",
       "<table border=\"1\" class=\"dataframe\">\n",
       "  <thead>\n",
       "    <tr style=\"text-align: right;\">\n",
       "      <th></th>\n",
       "      <th>user_id</th>\n",
       "      <th>item_id</th>\n",
       "    </tr>\n",
       "  </thead>\n",
       "  <tbody>\n",
       "    <tr>\n",
       "      <th>0</th>\n",
       "      <td>1</td>\n",
       "      <td>[1193, 661, 914, 3408, 2355, 1197, 1287, 2804,...</td>\n",
       "    </tr>\n",
       "    <tr>\n",
       "      <th>1</th>\n",
       "      <td>2</td>\n",
       "      <td>[1357, 3068, 1537, 647, 2194, 648, 2268, 2628,...</td>\n",
       "    </tr>\n",
       "    <tr>\n",
       "      <th>2</th>\n",
       "      <td>3</td>\n",
       "      <td>[3421, 648, 1394, 3534, 104, 2735, 1210, 1431,...</td>\n",
       "    </tr>\n",
       "    <tr>\n",
       "      <th>3</th>\n",
       "      <td>4</td>\n",
       "      <td>[3468, 1210, 2951, 1214, 1036, 260, 2028, 480,...</td>\n",
       "    </tr>\n",
       "    <tr>\n",
       "      <th>4</th>\n",
       "      <td>5</td>\n",
       "      <td>[2987, 2333, 1175, 39, 2337, 1535, 1392, 1466,...</td>\n",
       "    </tr>\n",
       "    <tr>\n",
       "      <th>...</th>\n",
       "      <td>...</td>\n",
       "      <td>...</td>\n",
       "    </tr>\n",
       "    <tr>\n",
       "      <th>6034</th>\n",
       "      <td>6036</td>\n",
       "      <td>[571, 574, 2054, 589, 6, 3006, 3008, 1405, 140...</td>\n",
       "    </tr>\n",
       "    <tr>\n",
       "      <th>6035</th>\n",
       "      <td>6037</td>\n",
       "      <td>[589, 3006, 1407, 2064, 2065, 593, 3015, 903, ...</td>\n",
       "    </tr>\n",
       "    <tr>\n",
       "      <th>6036</th>\n",
       "      <td>6038</td>\n",
       "      <td>[1419, 920, 3088, 232, 1136, 1148, 1183, 2146,...</td>\n",
       "    </tr>\n",
       "    <tr>\n",
       "      <th>6037</th>\n",
       "      <td>6039</td>\n",
       "      <td>[588, 2067, 1416, 3022, 3028, 2080, 2083, 2087...</td>\n",
       "    </tr>\n",
       "    <tr>\n",
       "      <th>6038</th>\n",
       "      <td>6040</td>\n",
       "      <td>[573, 589, 1, 2068, 593, 2070, 1419, 2076, 903...</td>\n",
       "    </tr>\n",
       "  </tbody>\n",
       "</table>\n",
       "<p>6039 rows × 2 columns</p>\n",
       "</div>"
      ],
      "text/plain": [
       "      user_id                                            item_id\n",
       "0           1  [1193, 661, 914, 3408, 2355, 1197, 1287, 2804,...\n",
       "1           2  [1357, 3068, 1537, 647, 2194, 648, 2268, 2628,...\n",
       "2           3  [3421, 648, 1394, 3534, 104, 2735, 1210, 1431,...\n",
       "3           4  [3468, 1210, 2951, 1214, 1036, 260, 2028, 480,...\n",
       "4           5  [2987, 2333, 1175, 39, 2337, 1535, 1392, 1466,...\n",
       "...       ...                                                ...\n",
       "6034     6036  [571, 574, 2054, 589, 6, 3006, 3008, 1405, 140...\n",
       "6035     6037  [589, 3006, 1407, 2064, 2065, 593, 3015, 903, ...\n",
       "6036     6038  [1419, 920, 3088, 232, 1136, 1148, 1183, 2146,...\n",
       "6037     6039  [588, 2067, 1416, 3022, 3028, 2080, 2083, 2087...\n",
       "6038     6040  [573, 589, 1, 2068, 593, 2070, 1419, 2076, 903...\n",
       "\n",
       "[6039 rows x 2 columns]"
      ]
     },
     "execution_count": 5,
     "metadata": {},
     "output_type": "execute_result"
    }
   ],
   "source": [
    "data"
   ]
  },
  {
   "cell_type": "code",
   "execution_count": 6,
   "metadata": {},
   "outputs": [],
   "source": [
    "user_data = pd.read_csv('../Data/ml100/movieLens_users.csv', sep=',', header=0)"
   ]
  },
  {
   "cell_type": "code",
   "execution_count": 7,
   "metadata": {},
   "outputs": [
    {
     "data": {
      "text/html": [
       "<div>\n",
       "<style scoped>\n",
       "    .dataframe tbody tr th:only-of-type {\n",
       "        vertical-align: middle;\n",
       "    }\n",
       "\n",
       "    .dataframe tbody tr th {\n",
       "        vertical-align: top;\n",
       "    }\n",
       "\n",
       "    .dataframe thead th {\n",
       "        text-align: right;\n",
       "    }\n",
       "</style>\n",
       "<table border=\"1\" class=\"dataframe\">\n",
       "  <thead>\n",
       "    <tr style=\"text-align: right;\">\n",
       "      <th></th>\n",
       "      <th>user_id</th>\n",
       "      <th>gender</th>\n",
       "      <th>age</th>\n",
       "      <th>occupation</th>\n",
       "      <th>zipcode</th>\n",
       "    </tr>\n",
       "  </thead>\n",
       "  <tbody>\n",
       "    <tr>\n",
       "      <th>0</th>\n",
       "      <td>1</td>\n",
       "      <td>F</td>\n",
       "      <td>1</td>\n",
       "      <td>10</td>\n",
       "      <td>48067</td>\n",
       "    </tr>\n",
       "    <tr>\n",
       "      <th>1</th>\n",
       "      <td>2</td>\n",
       "      <td>M</td>\n",
       "      <td>56</td>\n",
       "      <td>16</td>\n",
       "      <td>70072</td>\n",
       "    </tr>\n",
       "    <tr>\n",
       "      <th>2</th>\n",
       "      <td>3</td>\n",
       "      <td>M</td>\n",
       "      <td>25</td>\n",
       "      <td>15</td>\n",
       "      <td>55117</td>\n",
       "    </tr>\n",
       "    <tr>\n",
       "      <th>3</th>\n",
       "      <td>4</td>\n",
       "      <td>M</td>\n",
       "      <td>45</td>\n",
       "      <td>7</td>\n",
       "      <td>02460</td>\n",
       "    </tr>\n",
       "    <tr>\n",
       "      <th>4</th>\n",
       "      <td>5</td>\n",
       "      <td>M</td>\n",
       "      <td>25</td>\n",
       "      <td>20</td>\n",
       "      <td>55455</td>\n",
       "    </tr>\n",
       "    <tr>\n",
       "      <th>...</th>\n",
       "      <td>...</td>\n",
       "      <td>...</td>\n",
       "      <td>...</td>\n",
       "      <td>...</td>\n",
       "      <td>...</td>\n",
       "    </tr>\n",
       "    <tr>\n",
       "      <th>6035</th>\n",
       "      <td>6036</td>\n",
       "      <td>F</td>\n",
       "      <td>25</td>\n",
       "      <td>15</td>\n",
       "      <td>32603</td>\n",
       "    </tr>\n",
       "    <tr>\n",
       "      <th>6036</th>\n",
       "      <td>6037</td>\n",
       "      <td>F</td>\n",
       "      <td>45</td>\n",
       "      <td>1</td>\n",
       "      <td>76006</td>\n",
       "    </tr>\n",
       "    <tr>\n",
       "      <th>6037</th>\n",
       "      <td>6038</td>\n",
       "      <td>F</td>\n",
       "      <td>56</td>\n",
       "      <td>1</td>\n",
       "      <td>14706</td>\n",
       "    </tr>\n",
       "    <tr>\n",
       "      <th>6038</th>\n",
       "      <td>6039</td>\n",
       "      <td>F</td>\n",
       "      <td>45</td>\n",
       "      <td>0</td>\n",
       "      <td>01060</td>\n",
       "    </tr>\n",
       "    <tr>\n",
       "      <th>6039</th>\n",
       "      <td>6040</td>\n",
       "      <td>M</td>\n",
       "      <td>25</td>\n",
       "      <td>6</td>\n",
       "      <td>11106</td>\n",
       "    </tr>\n",
       "  </tbody>\n",
       "</table>\n",
       "<p>6040 rows × 5 columns</p>\n",
       "</div>"
      ],
      "text/plain": [
       "      user_id gender  age  occupation zipcode\n",
       "0           1      F    1          10   48067\n",
       "1           2      M   56          16   70072\n",
       "2           3      M   25          15   55117\n",
       "3           4      M   45           7   02460\n",
       "4           5      M   25          20   55455\n",
       "...       ...    ...  ...         ...     ...\n",
       "6035     6036      F   25          15   32603\n",
       "6036     6037      F   45           1   76006\n",
       "6037     6038      F   56           1   14706\n",
       "6038     6039      F   45           0   01060\n",
       "6039     6040      M   25           6   11106\n",
       "\n",
       "[6040 rows x 5 columns]"
      ]
     },
     "execution_count": 7,
     "metadata": {},
     "output_type": "execute_result"
    }
   ],
   "source": [
    "user_data"
   ]
  },
  {
   "cell_type": "code",
   "execution_count": 22,
   "metadata": {},
   "outputs": [],
   "source": [
    "# ids de usuarios por genero\n",
    "male_users = user_data[user_data['gender'] == 'M']['user_id'].to_list()\n",
    "female_users = user_data[user_data['gender'] == 'F']['user_id'].to_list()"
   ]
  },
  {
   "cell_type": "code",
   "execution_count": 9,
   "metadata": {},
   "outputs": [],
   "source": [
    "def lista_id_user_by_age(age):\n",
    "    return user_data[user_data['age'] == age]['user_id'].to_list()"
   ]
  },
  {
   "cell_type": "code",
   "execution_count": 10,
   "metadata": {},
   "outputs": [],
   "source": [
    "# ids de usuarios por edad\n",
    "dict_age = {1:  \"Under_18\", 18:  \"18-24\", 25:  \"25-34\", 35:  \"35-44\", \n",
    "            45:  \"45-49\",50:  \"50-55\",56:  \"56+\"}\n",
    "id_users_by_age = [lista_id_user_by_age(age) for age in sorted(dict_age.keys())]"
   ]
  },
  {
   "cell_type": "code",
   "execution_count": 24,
   "metadata": {},
   "outputs": [],
   "source": [
    "# Dividir en train y test\n",
    "train, test= train_test_split(data, shuffle=False, train_size=0.8)"
   ]
  },
  {
   "cell_type": "code",
   "execution_count": 30,
   "metadata": {},
   "outputs": [
    {
     "data": {
      "text/html": [
       "<div>\n",
       "<style scoped>\n",
       "    .dataframe tbody tr th:only-of-type {\n",
       "        vertical-align: middle;\n",
       "    }\n",
       "\n",
       "    .dataframe tbody tr th {\n",
       "        vertical-align: top;\n",
       "    }\n",
       "\n",
       "    .dataframe thead th {\n",
       "        text-align: right;\n",
       "    }\n",
       "</style>\n",
       "<table border=\"1\" class=\"dataframe\">\n",
       "  <thead>\n",
       "    <tr style=\"text-align: right;\">\n",
       "      <th></th>\n",
       "      <th>user_id</th>\n",
       "      <th>item_id</th>\n",
       "    </tr>\n",
       "  </thead>\n",
       "  <tbody>\n",
       "    <tr>\n",
       "      <th>4831</th>\n",
       "      <td>4833</td>\n",
       "      <td>[593, 595, 2070, 903, 908, 912, 913, 919, 928,...</td>\n",
       "    </tr>\n",
       "    <tr>\n",
       "      <th>4832</th>\n",
       "      <td>4834</td>\n",
       "      <td>[3794, 3798, 1, 2, 3005, 8, 1408, 2067, 590, 5...</td>\n",
       "    </tr>\n",
       "    <tr>\n",
       "      <th>4833</th>\n",
       "      <td>4835</td>\n",
       "      <td>[589, 1, 3006, 1407, 593, 903, 904, 908, 3044,...</td>\n",
       "    </tr>\n",
       "    <tr>\n",
       "      <th>4834</th>\n",
       "      <td>4836</td>\n",
       "      <td>[593, 3011, 3051, 214, 260, 2840, 290, 2857, 2...</td>\n",
       "    </tr>\n",
       "    <tr>\n",
       "      <th>4835</th>\n",
       "      <td>4837</td>\n",
       "      <td>[3791, 587, 1, 1407, 597, 3016, 3017, 2078, 20...</td>\n",
       "    </tr>\n",
       "    <tr>\n",
       "      <th>...</th>\n",
       "      <td>...</td>\n",
       "      <td>...</td>\n",
       "    </tr>\n",
       "    <tr>\n",
       "      <th>6034</th>\n",
       "      <td>6036</td>\n",
       "      <td>[571, 574, 2054, 589, 6, 3006, 3008, 1405, 140...</td>\n",
       "    </tr>\n",
       "    <tr>\n",
       "      <th>6035</th>\n",
       "      <td>6037</td>\n",
       "      <td>[589, 3006, 1407, 2064, 2065, 593, 3015, 903, ...</td>\n",
       "    </tr>\n",
       "    <tr>\n",
       "      <th>6036</th>\n",
       "      <td>6038</td>\n",
       "      <td>[1419, 920, 3088, 232, 1136, 1148, 1183, 2146,...</td>\n",
       "    </tr>\n",
       "    <tr>\n",
       "      <th>6037</th>\n",
       "      <td>6039</td>\n",
       "      <td>[588, 2067, 1416, 3022, 3028, 2080, 2083, 2087...</td>\n",
       "    </tr>\n",
       "    <tr>\n",
       "      <th>6038</th>\n",
       "      <td>6040</td>\n",
       "      <td>[573, 589, 1, 2068, 593, 2070, 1419, 2076, 903...</td>\n",
       "    </tr>\n",
       "  </tbody>\n",
       "</table>\n",
       "<p>1208 rows × 2 columns</p>\n",
       "</div>"
      ],
      "text/plain": [
       "      user_id                                            item_id\n",
       "4831     4833  [593, 595, 2070, 903, 908, 912, 913, 919, 928,...\n",
       "4832     4834  [3794, 3798, 1, 2, 3005, 8, 1408, 2067, 590, 5...\n",
       "4833     4835  [589, 1, 3006, 1407, 593, 903, 904, 908, 3044,...\n",
       "4834     4836  [593, 3011, 3051, 214, 260, 2840, 290, 2857, 2...\n",
       "4835     4837  [3791, 587, 1, 1407, 597, 3016, 3017, 2078, 20...\n",
       "...       ...                                                ...\n",
       "6034     6036  [571, 574, 2054, 589, 6, 3006, 3008, 1405, 140...\n",
       "6035     6037  [589, 3006, 1407, 2064, 2065, 593, 3015, 903, ...\n",
       "6036     6038  [1419, 920, 3088, 232, 1136, 1148, 1183, 2146,...\n",
       "6037     6039  [588, 2067, 1416, 3022, 3028, 2080, 2083, 2087...\n",
       "6038     6040  [573, 589, 1, 2068, 593, 2070, 1419, 2076, 903...\n",
       "\n",
       "[1208 rows x 2 columns]"
      ]
     },
     "execution_count": 30,
     "metadata": {},
     "output_type": "execute_result"
    }
   ],
   "source": [
    "test"
   ]
  },
  {
   "cell_type": "code",
   "execution_count": 25,
   "metadata": {},
   "outputs": [],
   "source": [
    "# Separar test por genero\n",
    "test_M = test[test['user_id'].isin(male_users)]\n",
    "test_F =  test[test['user_id'].isin(female_users)]"
   ]
  },
  {
   "cell_type": "code",
   "execution_count": 31,
   "metadata": {},
   "outputs": [],
   "source": [
    "# Separar test por edad\n",
    "test_users_by_age = [test[test['user_id'].isin(age_list)] for age_list in id_users_by_age]"
   ]
  },
  {
   "cell_type": "code",
   "execution_count": 32,
   "metadata": {},
   "outputs": [],
   "source": [
    "# Guardar archivo\n",
    "def guardar_archivo(nombre, data):\n",
    "    file = open(f\"../Data/ml100/{nombre}.txt\", 'w+')\n",
    "    file.write('')\n",
    "    for index, row in data.iterrows():\n",
    "        line = str(row['user_id']), ' '.join(map(str,row['item_id'])),'\\n'\n",
    "        line = ' '.join(line)\n",
    "        file.write(line)\n",
    "    file.close()"
   ]
  },
  {
   "cell_type": "code",
   "execution_count": 33,
   "metadata": {},
   "outputs": [],
   "source": [
    "# Guardar train\n",
    "guardar_archivo('train', train)"
   ]
  },
  {
   "cell_type": "code",
   "execution_count": 34,
   "metadata": {},
   "outputs": [],
   "source": [
    "# Guardar test, y tests por genero\n",
    "guardar_archivo('test', test)\n",
    "guardar_archivo('test_M', test_M)\n",
    "guardar_archivo('test_F', test_F)"
   ]
  },
  {
   "cell_type": "code",
   "execution_count": 36,
   "metadata": {},
   "outputs": [],
   "source": [
    "# Guardar test por edad\n",
    "for x, y in (zip(sorted(dict_age.keys()), test_users_by_age)):\n",
    "    guardar_archivo(f\"test_{x}_age\", y)"
   ]
  }
 ],
 "metadata": {
  "kernelspec": {
   "display_name": "Python 3 (ipykernel)",
   "language": "python",
   "name": "python3"
  },
  "language_info": {
   "codemirror_mode": {
    "name": "ipython",
    "version": 3
   },
   "file_extension": ".py",
   "mimetype": "text/x-python",
   "name": "python",
   "nbconvert_exporter": "python",
   "pygments_lexer": "ipython3",
   "version": "3.9.7"
  },
  "vscode": {
   "interpreter": {
    "hash": "31f2aee4e71d21fbe5cf8b01ff0e069b9275f58929596ceb00d14d90e3e16cd6"
   }
  }
 },
 "nbformat": 4,
 "nbformat_minor": 2
}
