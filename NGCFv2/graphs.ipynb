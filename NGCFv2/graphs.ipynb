{
 "cells": [
  {
   "cell_type": "code",
   "execution_count": 1,
   "metadata": {},
   "outputs": [],
   "source": [
    "import pandas as pd\n",
    "import matplotlib.pyplot as plt\n",
    "import seaborn as sns"
   ]
  },
  {
   "cell_type": "code",
   "execution_count": 113,
   "metadata": {},
   "outputs": [],
   "source": [
    "varianza = pd.read_csv('./varianza.csv')"
   ]
  },
  {
   "cell_type": "code",
   "execution_count": 114,
   "metadata": {},
   "outputs": [
    {
     "data": {
      "text/html": [
       "<div>\n",
       "<style scoped>\n",
       "    .dataframe tbody tr th:only-of-type {\n",
       "        vertical-align: middle;\n",
       "    }\n",
       "\n",
       "    .dataframe tbody tr th {\n",
       "        vertical-align: top;\n",
       "    }\n",
       "\n",
       "    .dataframe thead th {\n",
       "        text-align: right;\n",
       "    }\n",
       "</style>\n",
       "<table border=\"1\" class=\"dataframe\">\n",
       "  <thead>\n",
       "    <tr style=\"text-align: right;\">\n",
       "      <th></th>\n",
       "      <th>model</th>\n",
       "      <th>general</th>\n",
       "      <th>male</th>\n",
       "      <th>female</th>\n",
       "      <th>under18</th>\n",
       "      <th>18-24</th>\n",
       "      <th>25-34</th>\n",
       "      <th>35-44</th>\n",
       "      <th>45-49</th>\n",
       "      <th>50-55</th>\n",
       "      <th>over56</th>\n",
       "    </tr>\n",
       "  </thead>\n",
       "  <tbody>\n",
       "    <tr>\n",
       "      <th>0</th>\n",
       "      <td>Pop</td>\n",
       "      <td>0.000067</td>\n",
       "      <td>0.000065</td>\n",
       "      <td>0.000075</td>\n",
       "      <td>0.000048</td>\n",
       "      <td>0.000054</td>\n",
       "      <td>0.000069</td>\n",
       "      <td>0.000056</td>\n",
       "      <td>0.000076</td>\n",
       "      <td>0.000070</td>\n",
       "      <td>0.000060</td>\n",
       "    </tr>\n",
       "    <tr>\n",
       "      <th>1</th>\n",
       "      <td>BPR</td>\n",
       "      <td>0.002382</td>\n",
       "      <td>0.001978</td>\n",
       "      <td>0.001978</td>\n",
       "      <td>0.000904</td>\n",
       "      <td>0.001280</td>\n",
       "      <td>0.002010</td>\n",
       "      <td>0.001225</td>\n",
       "      <td>0.001631</td>\n",
       "      <td>0.001178</td>\n",
       "      <td>0.001013</td>\n",
       "    </tr>\n",
       "    <tr>\n",
       "      <th>2</th>\n",
       "      <td>NGCF</td>\n",
       "      <td>NaN</td>\n",
       "      <td>0.001978</td>\n",
       "      <td>0.001978</td>\n",
       "      <td>NaN</td>\n",
       "      <td>NaN</td>\n",
       "      <td>NaN</td>\n",
       "      <td>NaN</td>\n",
       "      <td>NaN</td>\n",
       "      <td>NaN</td>\n",
       "      <td>NaN</td>\n",
       "    </tr>\n",
       "    <tr>\n",
       "      <th>3</th>\n",
       "      <td>NGCF-Var</td>\n",
       "      <td>NaN</td>\n",
       "      <td>0.001978</td>\n",
       "      <td>0.001978</td>\n",
       "      <td>NaN</td>\n",
       "      <td>NaN</td>\n",
       "      <td>NaN</td>\n",
       "      <td>NaN</td>\n",
       "      <td>NaN</td>\n",
       "      <td>NaN</td>\n",
       "      <td>NaN</td>\n",
       "    </tr>\n",
       "  </tbody>\n",
       "</table>\n",
       "</div>"
      ],
      "text/plain": [
       "      model   general      male    female   under18     18-24     25-34  \\\n",
       "0       Pop  0.000067  0.000065  0.000075  0.000048  0.000054  0.000069   \n",
       "1       BPR  0.002382  0.001978  0.001978  0.000904  0.001280  0.002010   \n",
       "2      NGCF       NaN  0.001978  0.001978       NaN       NaN       NaN   \n",
       "3  NGCF-Var       NaN  0.001978  0.001978       NaN       NaN       NaN   \n",
       "\n",
       "      35-44     45-49     50-55    over56  \n",
       "0  0.000056  0.000076  0.000070  0.000060  \n",
       "1  0.001225  0.001631  0.001178  0.001013  \n",
       "2       NaN       NaN       NaN       NaN  \n",
       "3       NaN       NaN       NaN       NaN  "
      ]
     },
     "execution_count": 114,
     "metadata": {},
     "output_type": "execute_result"
    }
   ],
   "source": [
    "varianza"
   ]
  },
  {
   "cell_type": "code",
   "execution_count": 99,
   "metadata": {},
   "outputs": [],
   "source": [
    "varianza['male'] = varianza['male'] * -1\n",
    "varianza['female'] = varianza['female'] * 1"
   ]
  },
  {
   "cell_type": "code",
   "execution_count": 106,
   "metadata": {},
   "outputs": [],
   "source": [
    "large = 22; med = 16; small = 12\n",
    "params = {'axes.titlesize': med,\n",
    "          'legend.fontsize': small,\n",
    "          'figure.figsize': (16, 10),\n",
    "          'axes.labelsize': small,\n",
    "          'axes.titlesize': small,\n",
    "          'xtick.labelsize': small,\n",
    "          'ytick.labelsize': small,\n",
    "          'figure.titlesize': med}\n",
    "plt.rcParams.update(params)\n",
    "plt.style.use('seaborn-whitegrid')\n",
    "sns.set_style(\"white\")\n",
    "%matplotlib inline\n"
   ]
  },
  {
   "cell_type": "code",
   "execution_count": 107,
   "metadata": {},
   "outputs": [],
   "source": [
    "models = ['Pop', 'BPR', 'NGCF', 'NGCF-Var']"
   ]
  },
  {
   "cell_type": "code",
   "execution_count": 108,
   "metadata": {},
   "outputs": [
    {
     "data": {
      "image/png": "[encoded data removed]",
      "text/plain": [
       "<Figure size 700x400 with 1 Axes>"
      ]
     },
     "metadata": {},
     "output_type": "display_data"
    }
   ],
   "source": [
    "plt.rcParams[\"figure.figsize\"] = (7, 4)\n",
    "\n",
    "ax1 = sns.barplot(x='male', y='model', data=varianza, order=models, palette=\"Blues\")\n",
    "ax2 = sns.barplot(x='female', y='model', data=varianza, order=models, palette=\"Reds\")\n",
    "plt.title(\"Varianza según género\")\n",
    "# plt.xticks(ticks=[-1E50, -1000, 0, 1000, 2000],\n",
    "          #  labels=['2,000k', '1,000k', '0', '1,000k', '2,000k'])\n",
    "# plt.xscale('log')\n",
    "plt.grid()\n",
    "plt.xlabel(\"Male/Female\")\n",
    "plt.savefig('varianza-genero.png')"
   ]
  },
  {
   "cell_type": "code",
   "execution_count": 142,
   "metadata": {},
   "outputs": [],
   "source": [
    "varianza_t = varianza.set_index('model').T.reset_index()"
   ]
  },
  {
   "cell_type": "code",
   "execution_count": 145,
   "metadata": {},
   "outputs": [
    {
     "data": {
      "text/html": [
       "<div>\n",
       "<style scoped>\n",
       "    .dataframe tbody tr th:only-of-type {\n",
       "        vertical-align: middle;\n",
       "    }\n",
       "\n",
       "    .dataframe tbody tr th {\n",
       "        vertical-align: top;\n",
       "    }\n",
       "\n",
       "    .dataframe thead th {\n",
       "        text-align: right;\n",
       "    }\n",
       "</style>\n",
       "<table border=\"1\" class=\"dataframe\">\n",
       "  <thead>\n",
       "    <tr style=\"text-align: right;\">\n",
       "      <th></th>\n",
       "      <th>rango</th>\n",
       "      <th>Pop</th>\n",
       "      <th>BPR</th>\n",
       "      <th>NGCF</th>\n",
       "      <th>NGCF-var</th>\n",
       "    </tr>\n",
       "  </thead>\n",
       "  <tbody>\n",
       "    <tr>\n",
       "      <th>0</th>\n",
       "      <td>general</td>\n",
       "      <td>0.000067</td>\n",
       "      <td>0.002382</td>\n",
       "      <td>NaN</td>\n",
       "      <td>NaN</td>\n",
       "    </tr>\n",
       "    <tr>\n",
       "      <th>1</th>\n",
       "      <td>male</td>\n",
       "      <td>0.000065</td>\n",
       "      <td>0.001978</td>\n",
       "      <td>0.001978</td>\n",
       "      <td>0.001978</td>\n",
       "    </tr>\n",
       "    <tr>\n",
       "      <th>2</th>\n",
       "      <td>female</td>\n",
       "      <td>0.000075</td>\n",
       "      <td>0.001978</td>\n",
       "      <td>0.001978</td>\n",
       "      <td>0.001978</td>\n",
       "    </tr>\n",
       "    <tr>\n",
       "      <th>3</th>\n",
       "      <td>under18</td>\n",
       "      <td>0.000048</td>\n",
       "      <td>0.000904</td>\n",
       "      <td>NaN</td>\n",
       "      <td>NaN</td>\n",
       "    </tr>\n",
       "    <tr>\n",
       "      <th>4</th>\n",
       "      <td>18-24</td>\n",
       "      <td>0.000054</td>\n",
       "      <td>0.001280</td>\n",
       "      <td>NaN</td>\n",
       "      <td>NaN</td>\n",
       "    </tr>\n",
       "    <tr>\n",
       "      <th>5</th>\n",
       "      <td>25-34</td>\n",
       "      <td>0.000069</td>\n",
       "      <td>0.002010</td>\n",
       "      <td>NaN</td>\n",
       "      <td>NaN</td>\n",
       "    </tr>\n",
       "    <tr>\n",
       "      <th>6</th>\n",
       "      <td>35-44</td>\n",
       "      <td>0.000056</td>\n",
       "      <td>0.001225</td>\n",
       "      <td>NaN</td>\n",
       "      <td>NaN</td>\n",
       "    </tr>\n",
       "    <tr>\n",
       "      <th>7</th>\n",
       "      <td>45-49</td>\n",
       "      <td>0.000076</td>\n",
       "      <td>0.001631</td>\n",
       "      <td>NaN</td>\n",
       "      <td>NaN</td>\n",
       "    </tr>\n",
       "    <tr>\n",
       "      <th>8</th>\n",
       "      <td>50-55</td>\n",
       "      <td>0.000070</td>\n",
       "      <td>0.001178</td>\n",
       "      <td>NaN</td>\n",
       "      <td>NaN</td>\n",
       "    </tr>\n",
       "    <tr>\n",
       "      <th>9</th>\n",
       "      <td>over56</td>\n",
       "      <td>0.000060</td>\n",
       "      <td>0.001013</td>\n",
       "      <td>NaN</td>\n",
       "      <td>NaN</td>\n",
       "    </tr>\n",
       "  </tbody>\n",
       "</table>\n",
       "</div>"
      ],
      "text/plain": [
       "     rango       Pop       BPR      NGCF  NGCF-var\n",
       "0  general  0.000067  0.002382       NaN       NaN\n",
       "1     male  0.000065  0.001978  0.001978  0.001978\n",
       "2   female  0.000075  0.001978  0.001978  0.001978\n",
       "3  under18  0.000048  0.000904       NaN       NaN\n",
       "4    18-24  0.000054  0.001280       NaN       NaN\n",
       "5    25-34  0.000069  0.002010       NaN       NaN\n",
       "6    35-44  0.000056  0.001225       NaN       NaN\n",
       "7    45-49  0.000076  0.001631       NaN       NaN\n",
       "8    50-55  0.000070  0.001178       NaN       NaN\n",
       "9   over56  0.000060  0.001013       NaN       NaN"
      ]
     },
     "execution_count": 145,
     "metadata": {},
     "output_type": "execute_result"
    }
   ],
   "source": [
    "varianza_t"
   ]
  },
  {
   "cell_type": "code",
   "execution_count": 143,
   "metadata": {},
   "outputs": [],
   "source": [
    "varianza_t.columns=['rango','Pop','BPR','NGCF','NGCF-var']"
   ]
  },
  {
   "cell_type": "code",
   "execution_count": 144,
   "metadata": {},
   "outputs": [],
   "source": [
    "rango = ['general', 'male', 'female', 'under18']"
   ]
  },
  {
   "cell_type": "code",
   "execution_count": 147,
   "metadata": {},
   "outputs": [
    {
     "data": {
      "image/png": "[encoded data removed]",
      "text/plain": [
       "<Figure size 700x400 with 1 Axes>"
      ]
     },
     "metadata": {},
     "output_type": "display_data"
    }
   ],
   "source": [
    "plt.rcParams[\"figure.figsize\"] = (7, 4)\n",
    "\n",
    "ax1 = sns.barplot(x='rango', y='Pop', data=varianza_t, order=rango, palette=\"Blues\")\n",
    "# ax2 = sns.barplot(x='female', y='model', data=varianza, order=models, palette=\"Reds\")\n",
    "plt.title(\"Varianza según género\")\n",
    "# plt.xticks(ticks=[-1E50, -1000, 0, 1000, 2000],\n",
    "          #  labels=['2,000k', '1,000k', '0', '1,000k', '2,000k'])\n",
    "# plt.xscale('log')\n",
    "plt.grid()\n",
    "# plt.xlabel(\"Male/Female\")\n",
    "# plt.savefig('varianza-genero.png')"
   ]
  }
 ],
 "metadata": {
  "kernelspec": {
   "display_name": "Python 3.10.4 ('sysrec')",
   "language": "python",
   "name": "python3"
  },
  "language_info": {
   "codemirror_mode": {
    "name": "ipython",
    "version": 3
   },
   "file_extension": ".py",
   "mimetype": "text/x-python",
   "name": "python",
   "nbconvert_exporter": "python",
   "pygments_lexer": "ipython3",
   "version": "3.10.4"
  },
  "orig_nbformat": 4,
  "vscode": {
   "interpreter": {
    "hash": "8d9f22da50b6f470ccdfeac73abbbdfc77e0de60f60a966e7da70035b1a39d3a"
   }
  }
 },
 "nbformat": 4,
 "nbformat_minor": 2
}
